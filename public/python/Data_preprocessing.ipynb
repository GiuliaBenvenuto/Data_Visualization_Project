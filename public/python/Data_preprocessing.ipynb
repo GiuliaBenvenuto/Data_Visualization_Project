{
  "nbformat": 4,
  "nbformat_minor": 0,
  "metadata": {
    "colab": {
      "private_outputs": true,
      "provenance": []
    },
    "kernelspec": {
      "name": "python3",
      "display_name": "Python 3"
    },
    "language_info": {
      "name": "python"
    }
  },
  "cells": [
    {
      "cell_type": "code",
      "execution_count": null,
      "metadata": {
        "id": "AeRe6OtauB-R"
      },
      "outputs": [],
      "source": [
        "import keras\n",
        "import tensorflow as tf\n",
        "import pandas as pd\n",
        "import os\n",
        "import collections\n",
        "\n",
        "import json\n",
        "import io\n",
        "\n",
        "import requests  # Import the requests library"
      ]
    },
    {
      "cell_type": "code",
      "source": [
        "from google.colab import drive\n",
        "# Mount Google Drive\n",
        "drive.mount('/content/drive')"
      ],
      "metadata": {
        "id": "OFpLJPkEuEJE"
      },
      "execution_count": null,
      "outputs": []
    },
    {
      "cell_type": "markdown",
      "source": [
        "# Treemap"
      ],
      "metadata": {
        "id": "JSAStozTurzY"
      }
    },
    {
      "cell_type": "code",
      "source": [
        "# File path\n",
        "file_path = '/content/drive/MyDrive/Colab/DataViz/Treemap/treemap_no_2009.csv'\n",
        "data = pd.read_csv(file_path)\n",
        "\n",
        "# Count the occurrences of each unique value in 'indic_is'\n",
        "value_counts = data['indic_is'].value_counts().reset_index()\n",
        "value_counts.columns = ['name', 'value']\n",
        "\n",
        "# Add a 'parent' column with a common root, e.g., 'Origin'\n",
        "value_counts['parent'] = 'Origin'\n",
        "\n",
        "# Reorder the columns as per the required format\n",
        "value_counts = value_counts[['name', 'parent', 'value']]\n",
        "\n",
        "# Saving the new CSV file\n",
        "new_csv_path = '/content/drive/MyDrive/Colab/DataViz/Treemap/treemap_processed.csv'\n",
        "value_counts.to_csv(new_csv_path, index=False)"
      ],
      "metadata": {
        "id": "gqkblf0AuSEE"
      },
      "execution_count": null,
      "outputs": []
    }
  ]
}